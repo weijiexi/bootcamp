{
  "nbformat": 4,
  "nbformat_minor": 0,
  "metadata": {
    "colab": {
      "name": "Section6: Methods and Function",
      "provenance": [],
      "authorship_tag": "ABX9TyPmj/E2OPkhrHxJsieBMHjj",
      "include_colab_link": true
    },
    "kernelspec": {
      "name": "python3",
      "display_name": "Python 3"
    },
    "language_info": {
      "name": "python"
    }
  },
  "cells": [
    {
      "cell_type": "markdown",
      "metadata": {
        "id": "view-in-github",
        "colab_type": "text"
      },
      "source": [
        "<a href=\"https://colab.research.google.com/github/weijiexi/bootcamp/blob/main/Section6_Methods_and_Function.ipynb\" target=\"_parent\"><img src=\"https://colab.research.google.com/assets/colab-badge.svg\" alt=\"Open In Colab\"/></a>"
      ]
    },
    {
      "cell_type": "markdown",
      "source": [
        "**Section6: Methods and Function**"
      ],
      "metadata": {
        "id": "uSH7G21Aek5L"
      }
    }
  ]
}